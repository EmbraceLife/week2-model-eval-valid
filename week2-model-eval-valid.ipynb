{
 "cells": [
  {
   "cell_type": "markdown",
   "metadata": {},
   "source": [
    "# Model Evaluation and Validation"
   ]
  },
  {
   "cell_type": "code",
   "execution_count": 5,
   "metadata": {
    "collapsed": true
   },
   "outputs": [],
   "source": [
    "from IPython.display import HTML, Image"
   ]
  },
  {
   "cell_type": "markdown",
   "metadata": {},
   "source": [
    "## Goals"
   ]
  },
  {
   "cell_type": "markdown",
   "metadata": {},
   "source": [
    "> Goals\n",
    "- How to create a test set for your models.\n",
    "- How to use confusion matrixes to evaluate false positives, and false negatives.\n",
    "- How to measure accuracy and other model metrics.\n",
    "- How to evaluate regression.\n",
    "- How to detect whether you are overfitting or underfitting based on the complexity of your model.\n",
    "- How to use cross validation to ensure your model is generalizable."
   ]
  },
  {
   "cell_type": "markdown",
   "metadata": {},
   "source": [
    "## Overfitting "
   ]
  },
  {
   "cell_type": "code",
   "execution_count": 1,
   "metadata": {
    "collapsed": false,
    "scrolled": true
   },
   "outputs": [
    {
     "data": {
      "text/html": [
       "<iframe width=\"500\" height=\"300\" src=\"https://www.youtube.com/embed/2GeMWgmx1rk?ecver=1\" frameborder=\"0\" allowfullscreen></iframe>"
      ],
      "text/plain": [
       "<IPython.core.display.HTML object>"
      ]
     },
     "execution_count": 1,
     "metadata": {},
     "output_type": "execute_result"
    }
   ],
   "source": [
    "# see Video at 1:48s\n",
    "from IPython.display import HTML\n",
    "HTML('<iframe width=\"500\" height=\"300\" src=\"https://www.youtube.com/embed/2GeMWgmx1rk?ecver=1\" frameborder=\"0\" allowfullscreen></iframe>')"
   ]
  },
  {
   "cell_type": "markdown",
   "metadata": {},
   "source": [
    "## Why testing: training and test set"
   ]
  },
  {
   "cell_type": "code",
   "execution_count": 3,
   "metadata": {
    "collapsed": false
   },
   "outputs": [
    {
     "data": {
      "text/html": [
       "<iframe width=\"500\" height=\"300\" src=\"https://www.youtube.com/embed/2GeMWgmx1rk?ecver=1\" frameborder=\"0\" allowfullscreen></iframe>"
      ],
      "text/plain": [
       "<IPython.core.display.HTML object>"
      ]
     },
     "execution_count": 3,
     "metadata": {},
     "output_type": "execute_result"
    }
   ],
   "source": [
    "# see Video at 2:42s for linear regression\n",
    "# see at 3:39 for classification\n",
    "from IPython.display import HTML\n",
    "HTML('<iframe width=\"500\" height=\"300\" src=\"https://www.youtube.com/embed/2GeMWgmx1rk?ecver=1\" frameborder=\"0\" allowfullscreen></iframe>')"
   ]
  },
  {
   "cell_type": "markdown",
   "metadata": {},
   "source": [
    "## How to train-test-split using sklearn"
   ]
  },
  {
   "cell_type": "code",
   "execution_count": 2,
   "metadata": {
    "collapsed": false
   },
   "outputs": [
    {
     "data": {
      "text/html": [
       "<iframe width=\"500\" height=\"300\" src=\"https://www.youtube.com/embed/2GeMWgmx1rk?ecver=1\" frameborder=\"0\" allowfullscreen></iframe>"
      ],
      "text/plain": [
       "<IPython.core.display.HTML object>"
      ]
     },
     "execution_count": 2,
     "metadata": {},
     "output_type": "execute_result"
    }
   ],
   "source": [
    "# see at 4:16s for code\n",
    "# never use testing set to train models\n",
    "from IPython.display import HTML\n",
    "HTML('<iframe width=\"500\" height=\"300\" src=\"https://www.youtube.com/embed/2GeMWgmx1rk?ecver=1\" frameborder=\"0\" allowfullscreen></iframe>')"
   ]
  },
  {
   "cell_type": "code",
   "execution_count": 4,
   "metadata": {
    "collapsed": false
   },
   "outputs": [
    {
     "data": {
      "text/html": [
       "<iframe width=\"500\" height=\"300\" src=\"https://www.youtube.com/embed/2IOMeKnzSqI?ecver=1\" frameborder=\"0\" allowfullscreen></iframe>"
      ],
      "text/plain": [
       "<IPython.core.display.HTML object>"
      ]
     },
     "execution_count": 4,
     "metadata": {},
     "output_type": "execute_result"
    }
   ],
   "source": [
    "HTML('<iframe width=\"500\" height=\"300\" src=\"https://www.youtube.com/embed/2IOMeKnzSqI?ecver=1\" frameborder=\"0\" allowfullscreen></iframe>')"
   ]
  },
  {
   "cell_type": "markdown",
   "metadata": {},
   "source": [
    "Confusion Matrix Quiz\n",
    "What is the number of True Positives, False Negatives, False Positives, and True Negatives, in the model above? Please enter your answer as four numbers separated by a comma and a space. For example, if your answers are 1, 2, 3, and 4, enter the string 1, 2, 3, 4.\n",
    "**answer: 6, 1, 2, 5**\n",
    "\n",
    "> Key: \n",
    "- True Positive: you are right with prediction of being positive\n",
    "- False Positive: You are wrong with prediction of being positive"
   ]
  },
  {
   "cell_type": "markdown",
   "metadata": {},
   "source": [
    "## What is accuracy?"
   ]
  },
  {
   "cell_type": "code",
   "execution_count": 8,
   "metadata": {
    "collapsed": false,
    "scrolled": true
   },
   "outputs": [
    {
     "data": {
      "text/html": [
       "<iframe width=\"500\" height=\"300\" src=\"https://www.youtube.com/embed/47-gJEyM9Ro?ecver=1\" frameborder=\"0\" allowfullscreen></iframe>"
      ],
      "text/plain": [
       "<IPython.core.display.HTML object>"
      ]
     },
     "execution_count": 8,
     "metadata": {},
     "output_type": "execute_result"
    }
   ],
   "source": [
    "# see accuracy in graph and in sklearn at 0:38s\n",
    "HTML('<iframe width=\"500\" height=\"300\" src=\"https://www.youtube.com/embed/47-gJEyM9Ro?ecver=1\" frameborder=\"0\" allowfullscreen></iframe>')"
   ]
  },
  {
   "cell_type": "code",
   "execution_count": 7,
   "metadata": {
    "collapsed": false
   },
   "outputs": [
    {
     "data": {
      "text/html": [
       "<img src=\"https://d17h27t6h515a5.cloudfront.net/topher/2017/February/58950c4e_accuracy/accuracy.png\" width=\"500\" height=\"300\"/>"
      ],
      "text/plain": [
       "<IPython.core.display.Image object>"
      ]
     },
     "execution_count": 7,
     "metadata": {},
     "output_type": "execute_result"
    }
   ],
   "source": [
    "Image(width = 500, height = 300, url=\"https://d17h27t6h515a5.cloudfront.net/topher/2017/February/58950c4e_accuracy/accuracy.png\")"
   ]
  },
  {
   "cell_type": "markdown",
   "metadata": {},
   "source": [
    "Accuracy Quiz\n",
    "What is the accuracy of the model above? Please enter the answer as a percentage, with two decimals. For example, 54.75."
   ]
  },
  {
   "cell_type": "code",
   "execution_count": 9,
   "metadata": {
    "collapsed": true
   },
   "outputs": [],
   "source": [
    "TP = 6\n",
    "TN = 5\n",
    "Total = 14\n",
    "accuracy = (TP + TN)/Total"
   ]
  },
  {
   "cell_type": "code",
   "execution_count": 10,
   "metadata": {
    "collapsed": false
   },
   "outputs": [
    {
     "data": {
      "text/plain": [
       "0.7857142857142857"
      ]
     },
     "execution_count": 10,
     "metadata": {},
     "output_type": "execute_result"
    }
   ],
   "source": [
    "accuracy"
   ]
  },
  {
   "cell_type": "markdown",
   "metadata": {},
   "source": [
    "## How to evaluate Regression?"
   ]
  },
  {
   "cell_type": "code",
   "execution_count": 11,
   "metadata": {
    "collapsed": false
   },
   "outputs": [
    {
     "data": {
      "text/html": [
       "<iframe width=\"500\" height=\"300\" src=\"https://www.youtube.com/embed/qbjqCBjzpLc?ecver=1\" frameborder=\"0\" allowfullscreen></iframe>"
      ],
      "text/plain": [
       "<IPython.core.display.HTML object>"
      ]
     },
     "execution_count": 11,
     "metadata": {},
     "output_type": "execute_result"
    }
   ],
   "source": [
    "# MAE: mean absolute error with code 0:40s (not differentiable, can't take derivative)\n",
    "# MSE: mean squared error (for gradient descent) with code 1:09s\n",
    "# R2 Score: start 1:10s \"compare our model to the simplest possible model\" using MSE \n",
    "# calc R2 in graph: 1:51s = 1- MSE(our model)/MSE(simplest model)\n",
    "# if our model is no better than simple model, R2 = approaching 0; \n",
    "# if our model is a lot better than simple model, R2 = approaching 1\n",
    "# R2 in sklearn code 2:35s\n",
    "HTML('<iframe width=\"500\" height=\"300\" src=\"https://www.youtube.com/embed/qbjqCBjzpLc?ecver=1\" frameborder=\"0\" allowfullscreen></iframe>')"
   ]
  },
  {
   "cell_type": "markdown",
   "metadata": {},
   "source": [
    "## How to understand underfit vs overfit, bias vs variance"
   ]
  },
  {
   "cell_type": "code",
   "execution_count": 12,
   "metadata": {
    "collapsed": false,
    "scrolled": true
   },
   "outputs": [
    {
     "data": {
      "text/html": [
       "<iframe width=\"500\" height=\"300\" src=\"https://www.youtube.com/embed/xYhpWmaL4F4?ecver=1\" frameborder=\"0\" allowfullscreen></iframe>"
      ],
      "text/plain": [
       "<IPython.core.display.HTML object>"
      ]
     },
     "execution_count": 12,
     "metadata": {},
     "output_type": "execute_result"
    }
   ],
   "source": [
    "# Types of Errors\n",
    "# 1. underfitting: oversimplify problem, don't do well on training set, \n",
    "# error by bias or poor assumptions (before 1:19s)\n",
    "# 2. overfitting: overcomplicate problem. Force to memorise every bit detial of training, as\n",
    "# a result, our model become too specific or complex, don't generalize in test set (before 2:10s)\n",
    "# 3. bias(underfitting): underlying model is complex, but assumed model is simple without\n",
    "# study hard on trainingset, so it won't do well on training set\n",
    "# 4. variance(overfitting): forced model to remember and try to model every detail of training\n",
    "# as a result, a little change in training set, cause huge change (variance) in model\n",
    "# 5. Tradeoff: (3:20s) underfit = high bias vs overfit = high variance\n",
    "HTML('<iframe width=\"500\" height=\"300\" src=\"https://www.youtube.com/embed/xYhpWmaL4F4?ecver=1\" frameborder=\"0\" allowfullscreen></iframe>')"
   ]
  },
  {
   "cell_type": "markdown",
   "metadata": {},
   "source": [
    "## Model Complexity Graph"
   ]
  },
  {
   "cell_type": "code",
   "execution_count": 13,
   "metadata": {
    "collapsed": false,
    "scrolled": true
   },
   "outputs": [
    {
     "data": {
      "text/html": [
       "<iframe width=\"500\" height=\"300\" src=\"https://www.youtube.com/embed/QAmqhR6bKWA?ecver=1\" frameborder=\"0\" allowfullscreen></iframe>"
      ],
      "text/plain": [
       "<IPython.core.display.HTML object>"
      ]
     },
     "execution_count": 13,
     "metadata": {},
     "output_type": "execute_result"
    }
   ],
   "source": [
    "# How to detect error (0:34s)\n",
    "# simple solution: use our model for training and test sets, \n",
    "# find num of training and test error\n",
    "HTML('<iframe width=\"500\" height=\"300\" src=\"https://www.youtube.com/embed/QAmqhR6bKWA?ecver=1\" frameborder=\"0\" allowfullscreen></iframe>')"
   ]
  },
  {
   "cell_type": "code",
   "execution_count": 14,
   "metadata": {
    "collapsed": false
   },
   "outputs": [
    {
     "data": {
      "text/html": [
       "<img src=\"https://d17h27t6h515a5.cloudfront.net/topher/2017/February/58950d4e_mcg/mcg.png\" width=\"500\" height=\"300\"/>"
      ],
      "text/plain": [
       "<IPython.core.display.Image object>"
      ]
     },
     "execution_count": 14,
     "metadata": {},
     "output_type": "execute_result"
    }
   ],
   "source": [
    "Image(width=500, height=300, url=\"https://d17h27t6h515a5.cloudfront.net/topher/2017/February/58950d4e_mcg/mcg.png\")"
   ]
  },
  {
   "cell_type": "markdown",
   "metadata": {},
   "source": [
    "Model Complexity Graph Quiz\n",
    "In the model above, how many training and testing errors are there? Please enter your answer as a string composed of the two numbers, separated by a comma and a space. For example, if you find 1 training error and 4 testing errors, your answer should be 1, 4. **0, 2**"
   ]
  },
  {
   "cell_type": "code",
   "execution_count": 15,
   "metadata": {
    "collapsed": false,
    "scrolled": true
   },
   "outputs": [
    {
     "data": {
      "text/html": [
       "<iframe width=\"500\" height=\"300\" src=\"https://www.youtube.com/embed/-j0d72ixSVA?ecver=1\" frameborder=\"0\" allowfullscreen></iframe>"
      ],
      "text/plain": [
       "<IPython.core.display.HTML object>"
      ]
     },
     "execution_count": 15,
     "metadata": {},
     "output_type": "execute_result"
    }
   ],
   "source": [
    "# explain the model complexity graph: compare unfit model, just right, overfit model (0:49s)\n",
    "# validation set: use to help decide on how good is model trained on training set (2:12s)\n",
    "# underfit, overfit modesl vs just right model on performance on trainign and test set (3:00s)\n",
    "# see Model Complexity Graph, x-axis is level of model complexity, y-axis is error 3:37s\n",
    "HTML('<iframe width=\"500\" height=\"300\" src=\"https://www.youtube.com/embed/-j0d72ixSVA?ecver=1\" frameborder=\"0\" allowfullscreen></iframe>')"
   ]
  },
  {
   "cell_type": "markdown",
   "metadata": {},
   "source": [
    "## Why K-fold-crossvalidation?"
   ]
  },
  {
   "cell_type": "code",
   "execution_count": 16,
   "metadata": {
    "collapsed": false
   },
   "outputs": [
    {
     "data": {
      "text/html": [
       "<iframe width=\"500\" height=\"300\" src=\"https://www.youtube.com/embed/zva46jKINis?ecver=1\" frameborder=\"0\" allowfullscreen></iframe>"
      ],
      "text/plain": [
       "<IPython.core.display.HTML object>"
      ]
     },
     "execution_count": 16,
     "metadata": {},
     "output_type": "execute_result"
    }
   ],
   "source": [
    "# 1. try to keep as many data to training set as possible\n",
    "# 2. must randomize the whole dataset first, avoid some meaningful order to remove bias\n",
    "# 3. KFold with shuffle in sklearn code (1:08s)\n",
    "HTML('<iframe width=\"500\" height=\"300\" src=\"https://www.youtube.com/embed/zva46jKINis?ecver=1\" frameborder=\"0\" allowfullscreen></iframe>')"
   ]
  },
  {
   "cell_type": "code",
   "execution_count": null,
   "metadata": {
    "collapsed": true
   },
   "outputs": [],
   "source": []
  }
 ],
 "metadata": {
  "kernelspec": {
   "display_name": "Python 3",
   "language": "python",
   "name": "python3"
  },
  "language_info": {
   "codemirror_mode": {
    "name": "ipython",
    "version": 3
   },
   "file_extension": ".py",
   "mimetype": "text/x-python",
   "name": "python",
   "nbconvert_exporter": "python",
   "pygments_lexer": "ipython3",
   "version": "3.6.0"
  }
 },
 "nbformat": 4,
 "nbformat_minor": 2
}
